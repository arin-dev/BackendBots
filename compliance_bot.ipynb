{
  "nbformat": 4,
  "nbformat_minor": 0,
  "metadata": {
    "colab": {
      "provenance": []
    },
    "kernelspec": {
      "name": "python3",
      "display_name": "Python 3"
    },
    "language_info": {
      "name": "python"
    }
  },
  "cells": [
    {
      "cell_type": "code",
      "execution_count": null,
      "metadata": {
        "colab": {
          "base_uri": "https://localhost:8080/"
        },
        "id": "zx3v3otgcqVl",
        "outputId": "2ecdae9b-822e-4cca-9a90-395d4269656d"
      },
      "outputs": [
        {
          "output_type": "stream",
          "name": "stdout",
          "text": [
            "Collecting openai\n",
            "  Downloading openai-1.31.0-py3-none-any.whl (324 kB)\n",
            "\u001b[2K     \u001b[90m━━━━━━━━━━━━━━━━━━━━━━━━━━━━━━━━━━━━━━━━\u001b[0m \u001b[32m324.1/324.1 kB\u001b[0m \u001b[31m4.2 MB/s\u001b[0m eta \u001b[36m0:00:00\u001b[0m\n",
            "\u001b[?25hRequirement already satisfied: anyio<5,>=3.5.0 in /usr/local/lib/python3.10/dist-packages (from openai) (3.7.1)\n",
            "Requirement already satisfied: distro<2,>=1.7.0 in /usr/lib/python3/dist-packages (from openai) (1.7.0)\n",
            "Collecting httpx<1,>=0.23.0 (from openai)\n",
            "  Downloading httpx-0.27.0-py3-none-any.whl (75 kB)\n",
            "\u001b[2K     \u001b[90m━━━━━━━━━━━━━━━━━━━━━━━━━━━━━━━━━━━━━━━━\u001b[0m \u001b[32m75.6/75.6 kB\u001b[0m \u001b[31m5.8 MB/s\u001b[0m eta \u001b[36m0:00:00\u001b[0m\n",
            "\u001b[?25hRequirement already satisfied: pydantic<3,>=1.9.0 in /usr/local/lib/python3.10/dist-packages (from openai) (2.7.2)\n",
            "Requirement already satisfied: sniffio in /usr/local/lib/python3.10/dist-packages (from openai) (1.3.1)\n",
            "Requirement already satisfied: tqdm>4 in /usr/local/lib/python3.10/dist-packages (from openai) (4.66.4)\n",
            "Requirement already satisfied: typing-extensions<5,>=4.7 in /usr/local/lib/python3.10/dist-packages (from openai) (4.12.0)\n",
            "Requirement already satisfied: idna>=2.8 in /usr/local/lib/python3.10/dist-packages (from anyio<5,>=3.5.0->openai) (3.7)\n",
            "Requirement already satisfied: exceptiongroup in /usr/local/lib/python3.10/dist-packages (from anyio<5,>=3.5.0->openai) (1.2.1)\n",
            "Requirement already satisfied: certifi in /usr/local/lib/python3.10/dist-packages (from httpx<1,>=0.23.0->openai) (2024.2.2)\n",
            "Collecting httpcore==1.* (from httpx<1,>=0.23.0->openai)\n",
            "  Downloading httpcore-1.0.5-py3-none-any.whl (77 kB)\n",
            "\u001b[2K     \u001b[90m━━━━━━━━━━━━━━━━━━━━━━━━━━━━━━━━━━━━━━━━\u001b[0m \u001b[32m77.9/77.9 kB\u001b[0m \u001b[31m5.8 MB/s\u001b[0m eta \u001b[36m0:00:00\u001b[0m\n",
            "\u001b[?25hCollecting h11<0.15,>=0.13 (from httpcore==1.*->httpx<1,>=0.23.0->openai)\n",
            "  Downloading h11-0.14.0-py3-none-any.whl (58 kB)\n",
            "\u001b[2K     \u001b[90m━━━━━━━━━━━━━━━━━━━━━━━━━━━━━━━━━━━━━━━━\u001b[0m \u001b[32m58.3/58.3 kB\u001b[0m \u001b[31m6.3 MB/s\u001b[0m eta \u001b[36m0:00:00\u001b[0m\n",
            "\u001b[?25hRequirement already satisfied: annotated-types>=0.4.0 in /usr/local/lib/python3.10/dist-packages (from pydantic<3,>=1.9.0->openai) (0.7.0)\n",
            "Requirement already satisfied: pydantic-core==2.18.3 in /usr/local/lib/python3.10/dist-packages (from pydantic<3,>=1.9.0->openai) (2.18.3)\n",
            "Installing collected packages: h11, httpcore, httpx, openai\n",
            "Successfully installed h11-0.14.0 httpcore-1.0.5 httpx-0.27.0 openai-1.31.0\n"
          ]
        }
      ],
      "source": [
        "!pip install openai"
      ]
    },
    {
      "cell_type": "code",
      "source": [
        "import openai"
      ],
      "metadata": {
        "id": "83zcQ_xScu-z"
      },
      "execution_count": null,
      "outputs": []
    },
    {
      "cell_type": "code",
      "source": [
        "openai.api_key = \"sk-proj-7GDRjoFaMK3NqnWTP8IsT3BlbkFJjDaGclWkVRdmf2MT9Lxp\""
      ],
      "metadata": {
        "id": "zol0kMBBc4E0"
      },
      "execution_count": null,
      "outputs": []
    },
    {
      "cell_type": "code",
      "source": [
        "system_message_template = \"\"\"\n",
        "You are an expert in international film production compliance. Provide a detailed guide for obtaining necessary permits, ensuring compliance requirements, understanding visa needs, and arranging hotels and travel for foreign crew members for a film shoot based on the user's specified locations. The guide should include the following sections:\n",
        "\n",
        "1. Compliance Requirements\n",
        "   - Necessary Permits & Licenses\n",
        "   - Local Authorities\n",
        "   - Application Procedures\n",
        "   - Cost and Compliance-related Requirements\n",
        "\n",
        "2. Visa Requirements for Team Members\n",
        "\n",
        "3. Risk Report Considerations\n",
        "\n",
        "The guide should also include contact information, locations, and website links for relevant authorities.\n",
        "\n",
        "\n",
        "If no results for hotels and flight bookings can be obtained with the given data then ask for more specific informations even after that if you do not get the relevant output then give a reply that results not found.\n",
        "\"\"\"\n",
        "# Tailor the guide to address these specifics based on the information provided. If the user does not provide these details, proceed with a general guide that covers all possible aspects comprehensively.\n",
        "# Additionally, ask the user for specific details such as:\n",
        "# - Filming Locations\n",
        "# - Type of Filming (e.g., aerial drone shots, indoor scenes)\n",
        "# - Crew Size\n",
        "# - Specific Locations or Landmarks\n",
        "# - Special Equipment (e.g., drones, stabilizers)\n",
        "\n",
        "human_message_template = \"\"\"\n",
        "To generate a comprehensive report tailored to your filming project, I need a few details from you. Could you please provide the following information?\n",
        "\n",
        "1. **Filming Locations**: Where will you be shooting? Please specify the cities or countries.\n",
        "2. **Type of Filming**: Are you planning to do aerial drone shots, indoor scenes, or both?\n",
        "3. **Crew Size**: Approximately how many crew members will be involved in the project?\n",
        "4. **Special Requirements**: Any specific locations or landmarks you plan to shoot at? Any special equipment you intend to use (e.g., drones, stabilizers)?\n",
        "\n",
        "Providing this information will help me offer a more precise guide covering the necessary permits, compliance requirements, visa needs, and travel and accommodation arrangements for your film shoots. If you do not have these details yet, I can proceed with a general guide that covers all aspects comprehensively.\n",
        "\n",
        "Please provide any additional details you have, or let me know if you'd like the general guide.\n",
        "\n",
        "Query = {input}\n",
        "\"\"\"\n"
      ],
      "metadata": {
        "id": "hr9T2Mh3lSvU"
      },
      "execution_count": null,
      "outputs": []
    },
    {
      "cell_type": "code",
      "source": [],
      "metadata": {
        "id": "NO_TVGesO6JE"
      },
      "execution_count": null,
      "outputs": []
    },
    {
      "cell_type": "code",
      "source": [
        "text = input().strip()"
      ],
      "metadata": {
        "id": "-gMU_29hsHrY",
        "outputId": "b3ce073e-8f93-4949-fa4e-26d50de45652",
        "colab": {
          "base_uri": "https://localhost:8080/"
        }
      },
      "execution_count": null,
      "outputs": [
        {
          "name": "stdout",
          "output_type": "stream",
          "text": [
            "I want to make a trip to bermuda triangle\n"
          ]
        }
      ]
    },
    {
      "cell_type": "code",
      "source": [
        "prompt = human_message_template.format(input=text)"
      ],
      "metadata": {
        "id": "3dvCRXphsBnU"
      },
      "execution_count": null,
      "outputs": []
    },
    {
      "cell_type": "code",
      "source": [
        "response = openai.chat.completions.create(\n",
        "    model=\"gpt-4o\",\n",
        "    messages=[\n",
        "            {'role':'system', 'content':system_message_template},\n",
        "            {\"role\":'user', 'content':prompt}\n",
        "        ],\n",
        ")"
      ],
      "metadata": {
        "id": "QL1hpHKFrUsH"
      },
      "execution_count": null,
      "outputs": []
    },
    {
      "cell_type": "code",
      "source": [
        "print(response)"
      ],
      "metadata": {
        "id": "NGCq0lBCsWlp",
        "outputId": "bac52518-e899-4f23-eca6-389715ca01b8",
        "colab": {
          "base_uri": "https://localhost:8080/"
        }
      },
      "execution_count": null,
      "outputs": [
        {
          "output_type": "stream",
          "name": "stdout",
          "text": [
            "ChatCompletion(id='chatcmpl-9Wo3OxpSnkD6bVslBXlmHgAF4yvkw', choices=[Choice(finish_reason='stop', index=0, logprobs=None, message=ChatCompletionMessage(content=\"To generate a tailored compliance report and guide for your film production project in the Bermuda Triangle, I still need more specific details. While the Bermuda Triangle is an interesting location largely covering parts of the Atlantic Ocean near Bermuda, Florida, and Puerto Rico, filming in oceanic locations often involves additional layers of complexity. Nevertheless, I'll provide you with a comprehensive, generalized guide. Please note that more detailed information will enhance the accuracy and relevance of the recommendations.\\n\\n### 1. Compliance Requirements\\n#### Necessary Permits & Licenses\\n- **Marine Filming Permit**: If filming in oceanic waters, you may need a permit from marine authorities in the relevant country.\\n- **Drone Permit**: Necessary if you plan to use drones for aerial shots.\\n- **Environmental Permit**: Required if the filming activity impacts marine life or the environment.\\n- **Film Permit**: General permit for shooting in specific jurisdictions.\\n\\n#### Local Authorities\\n- **Bermuda**:\\n  - [Bermuda Business Development Agency](https://www.bda.bm/contact-us/)\\n  - [Bermuda Department of Planning](https://www.planning.gov.bm/contact/)\\n- **Florida**:\\n  - [Florida Office of Film & Entertainment](https://www.filmflorida.org/contact/)\\n  - [Florida Fish and Wildlife Conservation Commission](https://myfwc.com/contact/)\\n- **Puerto Rico**:\\n  - [Puerto Rico Film Commission](https://www.film.pr.gov/contact-us/)\\n  - [Department of Natural and Environmental Resources](https://www.drna.pr.gov/contactus/)\\n\\n#### Application Procedures\\n1. Contact the relevant authority for application forms.\\n2. Submit detailed project proposals, including planned shooting dates, locations, and equipment.\\n3. Pay necessary fees (varies by location and type of permit).\\n4. Obtain approvals and maintain communication for any additional requirements or inspections.\\n\\n#### Cost and Compliance-related Requirements\\n- Permit fees may range from a few hundred to several thousand dollars, depending on the type and location.\\n- Insurance requirements (marine, liability, drone).\\n- Environmental assessments or impact studies.\\n\\n### 2. Visa Requirements for Team Members\\nCrew members may need specific visas if they are not residents or citizens of Bermuda, the US, or Puerto Rico.\\n- **Bermuda**:\\n  - [Visa Information](https://www.gov.bm/visiting-bermuda)\\n- **Florida (USA)**:\\n  - [US Visa Information](https://travel.state.gov/content/travel/en/us-visas.html)\\n- **Puerto Rico (USA)**: Follows US visa regulations.\\n\\nCrew members should apply for work or media visas, providing supporting documents such as:\\n- Invitation letters from a local partner or film commission.\\n- Detailed project outline.\\n- Proof of sufficient funds.\\n\\n### 3. Risk Report Considerations\\n- **Weather**: The Bermuda Triangle is prone to unpredictable weather. Monitor forecasts closely.\\n- **Insurance**: Equip your team with comprehensive marine, liability, and travel insurance.\\n- **Safety Measures**: Emergency protocols for potential issues like storms, equipment loss, or crew safety at sea.\\n- **Legal Considerations**: Understand maritime laws and jurisdictional boundaries to avoid legal complications.\\n- **Environmental Impact**: Consider local and international laws on environmental protection to minimize ecological footprints and avoid fines.\\n\\n### Contact Information\\n#### Bermuda\\n- **Bermuda Business Development Agency**\\n  - Website: [BDA](https://www.bda.bm/contact-us/)\\n  - Email: info@bda.bm\\n- **Bermuda Department of Planning**\\n  - Website: [Planning Bermuda](https://www.planning.gov.bm/contact/)\\n  - Email: planning@gov.bm\\n\\n#### Florida\\n- **Florida Office of Film & Entertainment**\\n  - Website: [Film Florida](https://www.filmflorida.org/contact/)\\n  - Email: info@filmflorida.org\\n- **Florida Fish and Wildlife Conservation Commission**\\n  - Website: [FWC](https://myfwc.com/contact/)\\n  - Email: fwc@myfwc.com\\n\\n#### Puerto Rico\\n- **Puerto Rico Film Commission**\\n  - Website: [Puerto Rico Film](https://www.film.pr.gov/contact-us/)\\n  - Email: info@film.pr.gov\\n- **Department of Natural and Environmental Resources**\\n  - Website: [DRNA PR](https://www.drna.pr.gov/contactus/)\\n  - Phone: +1 787-999-2200\\n\\n### Hotel and Travel Considerations\\nSpecific recommendations for hotels and flights cannot be made without additional details such as departure location and specific dates. Please provide:\\n- Departure city/country.\\n- Estimated budget for accommodation.\\n- Preferred airlines or hotel chains.\\n\\nWith this information, I'll be able to assist further. If providing specifics is not possible at this time, consult travel aggregators like Expedia, Booking.com, or contact a travel agent for bespoke arrangements. \\n\\n---\\n\\nFeel free to reach out with any more specific details or further questions.\", role='assistant', function_call=None, tool_calls=None))], created=1717605930, model='gpt-4o-2024-05-13', object='chat.completion', system_fingerprint='fp_319be4768e', usage=CompletionUsage(completion_tokens=1024, prompt_tokens=385, total_tokens=1409))\n"
          ]
        }
      ]
    },
    {
      "cell_type": "code",
      "source": [
        "output = response.choices[0].message.content\n",
        "print(output)"
      ],
      "metadata": {
        "id": "FyWMJ8WIsd5m",
        "outputId": "5e59df61-cd34-46b0-a0d4-802e715255df",
        "colab": {
          "base_uri": "https://localhost:8080/"
        }
      },
      "execution_count": null,
      "outputs": [
        {
          "output_type": "stream",
          "name": "stdout",
          "text": [
            "To generate a tailored compliance report and guide for your film production project in the Bermuda Triangle, I still need more specific details. While the Bermuda Triangle is an interesting location largely covering parts of the Atlantic Ocean near Bermuda, Florida, and Puerto Rico, filming in oceanic locations often involves additional layers of complexity. Nevertheless, I'll provide you with a comprehensive, generalized guide. Please note that more detailed information will enhance the accuracy and relevance of the recommendations.\n",
            "\n",
            "### 1. Compliance Requirements\n",
            "#### Necessary Permits & Licenses\n",
            "- **Marine Filming Permit**: If filming in oceanic waters, you may need a permit from marine authorities in the relevant country.\n",
            "- **Drone Permit**: Necessary if you plan to use drones for aerial shots.\n",
            "- **Environmental Permit**: Required if the filming activity impacts marine life or the environment.\n",
            "- **Film Permit**: General permit for shooting in specific jurisdictions.\n",
            "\n",
            "#### Local Authorities\n",
            "- **Bermuda**:\n",
            "  - [Bermuda Business Development Agency](https://www.bda.bm/contact-us/)\n",
            "  - [Bermuda Department of Planning](https://www.planning.gov.bm/contact/)\n",
            "- **Florida**:\n",
            "  - [Florida Office of Film & Entertainment](https://www.filmflorida.org/contact/)\n",
            "  - [Florida Fish and Wildlife Conservation Commission](https://myfwc.com/contact/)\n",
            "- **Puerto Rico**:\n",
            "  - [Puerto Rico Film Commission](https://www.film.pr.gov/contact-us/)\n",
            "  - [Department of Natural and Environmental Resources](https://www.drna.pr.gov/contactus/)\n",
            "\n",
            "#### Application Procedures\n",
            "1. Contact the relevant authority for application forms.\n",
            "2. Submit detailed project proposals, including planned shooting dates, locations, and equipment.\n",
            "3. Pay necessary fees (varies by location and type of permit).\n",
            "4. Obtain approvals and maintain communication for any additional requirements or inspections.\n",
            "\n",
            "#### Cost and Compliance-related Requirements\n",
            "- Permit fees may range from a few hundred to several thousand dollars, depending on the type and location.\n",
            "- Insurance requirements (marine, liability, drone).\n",
            "- Environmental assessments or impact studies.\n",
            "\n",
            "### 2. Visa Requirements for Team Members\n",
            "Crew members may need specific visas if they are not residents or citizens of Bermuda, the US, or Puerto Rico.\n",
            "- **Bermuda**:\n",
            "  - [Visa Information](https://www.gov.bm/visiting-bermuda)\n",
            "- **Florida (USA)**:\n",
            "  - [US Visa Information](https://travel.state.gov/content/travel/en/us-visas.html)\n",
            "- **Puerto Rico (USA)**: Follows US visa regulations.\n",
            "\n",
            "Crew members should apply for work or media visas, providing supporting documents such as:\n",
            "- Invitation letters from a local partner or film commission.\n",
            "- Detailed project outline.\n",
            "- Proof of sufficient funds.\n",
            "\n",
            "### 3. Risk Report Considerations\n",
            "- **Weather**: The Bermuda Triangle is prone to unpredictable weather. Monitor forecasts closely.\n",
            "- **Insurance**: Equip your team with comprehensive marine, liability, and travel insurance.\n",
            "- **Safety Measures**: Emergency protocols for potential issues like storms, equipment loss, or crew safety at sea.\n",
            "- **Legal Considerations**: Understand maritime laws and jurisdictional boundaries to avoid legal complications.\n",
            "- **Environmental Impact**: Consider local and international laws on environmental protection to minimize ecological footprints and avoid fines.\n",
            "\n",
            "### Contact Information\n",
            "#### Bermuda\n",
            "- **Bermuda Business Development Agency**\n",
            "  - Website: [BDA](https://www.bda.bm/contact-us/)\n",
            "  - Email: info@bda.bm\n",
            "- **Bermuda Department of Planning**\n",
            "  - Website: [Planning Bermuda](https://www.planning.gov.bm/contact/)\n",
            "  - Email: planning@gov.bm\n",
            "\n",
            "#### Florida\n",
            "- **Florida Office of Film & Entertainment**\n",
            "  - Website: [Film Florida](https://www.filmflorida.org/contact/)\n",
            "  - Email: info@filmflorida.org\n",
            "- **Florida Fish and Wildlife Conservation Commission**\n",
            "  - Website: [FWC](https://myfwc.com/contact/)\n",
            "  - Email: fwc@myfwc.com\n",
            "\n",
            "#### Puerto Rico\n",
            "- **Puerto Rico Film Commission**\n",
            "  - Website: [Puerto Rico Film](https://www.film.pr.gov/contact-us/)\n",
            "  - Email: info@film.pr.gov\n",
            "- **Department of Natural and Environmental Resources**\n",
            "  - Website: [DRNA PR](https://www.drna.pr.gov/contactus/)\n",
            "  - Phone: +1 787-999-2200\n",
            "\n",
            "### Hotel and Travel Considerations\n",
            "Specific recommendations for hotels and flights cannot be made without additional details such as departure location and specific dates. Please provide:\n",
            "- Departure city/country.\n",
            "- Estimated budget for accommodation.\n",
            "- Preferred airlines or hotel chains.\n",
            "\n",
            "With this information, I'll be able to assist further. If providing specifics is not possible at this time, consult travel aggregators like Expedia, Booking.com, or contact a travel agent for bespoke arrangements. \n",
            "\n",
            "---\n",
            "\n",
            "Feel free to reach out with any more specific details or further questions.\n"
          ]
        }
      ]
    },
    {
      "cell_type": "code",
      "source": [],
      "metadata": {
        "id": "HC51H_dFSM7s"
      },
      "execution_count": null,
      "outputs": []
    }
  ]
}