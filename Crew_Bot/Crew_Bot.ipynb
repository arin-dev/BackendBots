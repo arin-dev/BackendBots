{
  "cells": [
    {
      "cell_type": "code",
      "execution_count": 21,
      "metadata": {
        "id": "z-N_pNzOhfHf"
      },
      "outputs": [],
      "source": [
        "# OPENAI_API_KEY\n",
        "import os\n",
        "from dotenv import load_dotenv\n",
        "\n",
        "def import_env_var(var_name):\n",
        "    load_dotenv('./../.env')\n",
        "    env_var = os.getenv(var_name)\n",
        "    if env_var is None:\n",
        "        raise ValueError(f\"{var_name} not found. Please check your .env file.\")\n",
        "    else:\n",
        "        return env_var\n",
        "\n",
        "OPENAI_API_KEY = import_env_var(\"OPENAI_API_KEY\")"
      ]
    },
    {
      "cell_type": "code",
      "execution_count": 22,
      "metadata": {
        "id": "1GsAor4dhs3u"
      },
      "outputs": [],
      "source": [
        "# import json\n",
        "\n",
        "import sqlite3\n",
        "\n",
        "# def read_json_file(filepath):\n",
        "#     with open(filepath, 'r') as file:\n",
        "#         data = json.load(file)\n",
        "#     return data"
      ]
    },
    {
      "cell_type": "code",
      "execution_count": 23,
      "metadata": {
        "id": "sk2Uw-NMj_DL"
      },
      "outputs": [
        {
          "data": {
            "text/plain": [
              "' For converting JSON to sqlite DB '"
            ]
          },
          "execution_count": 23,
          "metadata": {},
          "output_type": "execute_result"
        }
      ],
      "source": [
        "''' For converting JSON to sqlite DB '''\n",
        "# import sqlite3\n",
        "# import json\n",
        "\n",
        "# # Connect to SQLite database\n",
        "# conn = sqlite3.connect('crewdata.db')\n",
        "# c = conn.cursor()\n",
        "\n",
        "# # Create table\n",
        "# c.execute('''\n",
        "#     CREATE TABLE crewdata\n",
        "#     (name text, userid text, crewType text, roleJobTitle text, services text, \n",
        "#     tags text, expertise text, yoe integer, minRatePerDay integer, maxRatePerDay integer, location text)\n",
        "# ''')\n",
        "\n",
        "# # Load JSON data\n",
        "# with open('demo_data/crewdata.json') as f:\n",
        "#     data = json.load(f)\n",
        "\n",
        "# # Insert JSON data into the table\n",
        "# for row in data:\n",
        "#     name = row['name']\n",
        "#     userid = row['userid']\n",
        "#     crewType = row['crewType']\n",
        "#     roleJobTitle = row['roleJobTitle']\n",
        "#     services = ', '.join(row['services'])\n",
        "#     tags = ', '.join(row['tags'])\n",
        "#     expertise = ', '.join(row['expertise'])\n",
        "#     yoe = row['yoe']\n",
        "#     minRatePerDay = row['minRatePerDay']\n",
        "#     maxRatePerDay = row['maxRatePerDay']\n",
        "#     location = row['location']\n",
        "    \n",
        "#     c.execute('''\n",
        "#         INSERT INTO crewdata VALUES (?,?,?,?,?,?,?,?,?,?,?)\n",
        "#     ''', (name, userid, crewType, roleJobTitle, services, tags, expertise, yoe, minRatePerDay, maxRatePerDay, location))\n",
        "\n",
        "# # Commit the transaction\n",
        "# conn.commit()\n",
        "\n",
        "# # Close the connection\n",
        "# conn.close()"
      ]
    },
    {
      "cell_type": "code",
      "execution_count": 24,
      "metadata": {
        "id": "y1fCql_xqD_D"
      },
      "outputs": [],
      "source": [
        "# !pip install langchain-core > NULL\n",
        "# !pip install langchain-openai > NULL\n",
        "# !pip install langgraph langchain > NULL\n",
        "# !python.exe -m pip install --upgrade pip > NULL"
      ]
    },
    {
      "cell_type": "code",
      "execution_count": 25,
      "metadata": {
        "colab": {
          "base_uri": "https://localhost:8080/"
        },
        "id": "HkMBkf8qmlOf",
        "outputId": "a692b0a5-c843-45b0-d4bb-043e52be3f76"
      },
      "outputs": [],
      "source": [
        "from langchain_core.messages import HumanMessage, SystemMessage\n",
        "from langchain_core.prompts import ChatPromptTemplate\n",
        "from langchain_openai import ChatOpenAI\n",
        "\n",
        "# Set your OpenAI API key\n",
        "api_key = OPENAI_API_KEY\n",
        "\n",
        "# # Initialize the ChatOpenAI instance\n",
        "llm = ChatOpenAI(model=\"gpt-4o\", temperature=0.2, api_key=api_key)\n",
        "llm_json = ChatOpenAI(model=\"gpt-4o\", temperature=0.2, api_key=api_key).bind(response_format={\"type\": \"json_object\"})\n",
        "from pprint import pprint\n",
        "\n",
        "import json"
      ]
    },
    {
      "cell_type": "code",
      "execution_count": 26,
      "metadata": {
        "id": "dazUKauHZxee"
      },
      "outputs": [],
      "source": [
        "def filter_crew_members(roleJobTitle, location, db):\n",
        "    dbname = db.split('.')[0]\n",
        "    conn = sqlite3.connect(db)\n",
        "    c = conn.cursor()\n",
        "    c.execute(f\"SELECT * FROM \\'{dbname}\\' WHERE roleJobTitle = \\'{roleJobTitle}\\' AND location = \\'{location}\\'\")\n",
        "    filtered_data = c.fetchall()\n",
        "    conn.close()\n",
        "    return filtered_data"
      ]
    },
    {
      "cell_type": "code",
      "execution_count": 27,
      "metadata": {},
      "outputs": [
        {
          "name": "stdout",
          "output_type": "stream",
          "text": [
            "[('Omar Al-Mahmoud', 'omar.almahmoud@gmail.com', 'Film Crew', 'Camera Operator', 'Camera Operation, Frame Composition', 'Film, Camera, Composition', 'Camera Operation, Frame Composition, Technical Skills', 7, 500, 750, 'Dubai'), ('Rashid Al-Habsi', 'rashid.alhabsi@gmail.com', 'Film Crew', 'Camera Operator', 'Camera Operation, Focus Pulling', 'Film, Camera, Focus', 'Focus Pulling, Camera Operation, Technical Skills', 8, 520, 770, 'Dubai'), ('Yousef Al-Nassir', 'yousef.alnassir@gmail.com', 'Film Crew', 'Camera Operator', 'Steadicam Operation, Camera Movement', 'Film, Steadicam, Movement', 'Steadicam Operation, Camera Movement, Technical Skills', 6, 540, 790, 'Dubai'), ('Sameer Sharma', 'sameer.sharma@gmail.com', 'Film Crew', 'Camera Operator', 'Camera Operation, Lens Selection', 'Film, Camera, Lens', 'Lens Selection, Camera Operation, Technical Skills', 7, 500, 750, 'Dubai'), ('Rahul Verma', 'rahul.verma@gmail.com', 'Film Crew', 'Camera Operator', 'Camera Operation, Frame Composition', 'Film, Camera, Composition', 'Frame Composition, Camera Operation, Technical Skills', 7, 500, 750, 'Dubai'), ('Ahmed Ali', 'ahmed.ali@example.com', 'Film Crew', 'Camera Operator', 'Camera Operation, Shot Framing', 'Camera Operator, Camera Operation, Shot Framing', 'Camera Operation, Shot Framing, Focus Control', 8, 800, 1200, 'Dubai'), ('Sonia Patel', 'sonia.patel@example.com', 'Film Crew', 'Camera Operator', 'Camera Setup, Cinematic Shots', 'Camera Operator, Camera Setup, Cinematic Shots', 'Camera Setup, Cinematic Shots, Camera Movement', 7, 750, 1150, 'Dubai'), ('Dmitri Ivanov', 'dmitri.ivanov@example.com', 'Film Crew', 'Camera Operator', 'Camera Operation, Drone Shots', 'Camera Operator, Camera Operation, Drone Shots', 'Camera Operation, Drone Shots, Aerial Cinematography', 9, 850, 1250, 'Dubai'), ('Anjali Desai', 'anjali.desai@example.com', 'Film Crew', 'Camera Operator', 'Camera Setup, Steadicam Operation', 'Camera Operator, Camera Setup, Steadicam Operation', 'Camera Setup, Steadicam Operation, Dynamic Shots', 8, 800, 1200, 'Dubai'), ('Viktor Petrov', 'viktor.petrov@example.com', 'Film Crew', 'Camera Operator', 'Camera Operation, Gimbal Shots', 'Camera Operator, Camera Operation, Gimbal Shots', 'Camera Operation, Gimbal Shots, Stabilization', 10, 900, 1300, 'Dubai'), ('Mei Lin', 'mei.lin@example.com', 'Film Crew', 'Camera Operator', 'Camera Setup, Tracking Shots', 'Camera Operator, Camera Setup, Tracking Shots', 'Camera Setup, Tracking Shots, Action Sequences', 9, 850, 1250, 'Dubai'), ('Arjun Gupta', 'arjun.gupta@example.com', 'Film Crew', 'Camera Operator', 'Camera Operation, Time-Lapse', 'Camera Operator, Camera Operation, Time-Lapse', 'Camera Operation, Time-Lapse, Creative Shots', 8, 800, 1200, 'Dubai')]\n"
          ]
        }
      ],
      "source": [
        "print(filter_crew_members('Camera Operator', 'Dubai', 'crewdata.db'))"
      ]
    },
    {
      "cell_type": "code",
      "execution_count": 28,
      "metadata": {
        "colab": {
          "base_uri": "https://localhost:8080/",
          "height": 35
        },
        "id": "Vb5TMYCfrqJT",
        "outputId": "4d5857c6-37e5-4283-d8ac-40e49e703592"
      },
      "outputs": [
        {
          "data": {
            "text/plain": [
              "'\\nPLAN :\\n    expand project details\\n    break into queries\\n    check if all queries satisfied\\n    check if all queries are valid\\n    call to DB for all qualified enteries\\n'"
            ]
          },
          "execution_count": 28,
          "metadata": {},
          "output_type": "execute_result"
        }
      ],
      "source": [
        "'''\n",
        "PLAN :\n",
        "    expand project details\n",
        "    break into queries\n",
        "    check if all queries satisfied\n",
        "    check if all queries are valid\n",
        "    call to DB for all qualified enteries\n",
        "'''"
      ]
    },
    {
      "cell_type": "code",
      "execution_count": 29,
      "metadata": {
        "colab": {
          "base_uri": "https://localhost:8080/",
          "height": 141
        },
        "id": "Lux9y6mAsFVy",
        "outputId": "f8d4566f-7d35-41ad-a756-10fb76d87113"
      },
      "outputs": [],
      "source": [
        "\n",
        "def get_detailed_desc(desc):\n",
        "    prompt_detailed_desc = \"You are the production advisor and primary contract for the customer. The customer will come to you and describe their project. You need to make the necessary changes so that project details are completely described and even new members can understand the need. It should be such that everyone can get the overview of the project at a glance. The description should try to contain the following in a paragraph : a descriptive overview of the project, locations that will be involved and task at each location, and whether the same team will travel to different locations or if customer will require different teams at different locations. No formatting should be applied to the output, for better clearity and understanding.\"\n",
        "    messages = [\n",
        "        (\"system\", prompt_detailed_desc),\n",
        "        (\"user\", f\"This is the project details from user : {desc}\"),\n",
        "    ]\n",
        "    response = llm.invoke(messages)\n",
        "    detailed_desc = response.content\n",
        "    return detailed_desc\n",
        "\n",
        "\n",
        "def get_unique_roles(db):\n",
        "    conn = sqlite3.connect(db)\n",
        "    c = conn.cursor()\n",
        "    query = \"SELECT DISTINCT roleJobTitle FROM crewdata\"\n",
        "    c.execute(query)\n",
        "    rows = c.fetchall()\n",
        "    roleJobTitles = [row[0] for row in rows]\n",
        "    conn.close()\n",
        "\n",
        "    return roleJobTitles\n",
        "\n",
        "\n",
        "def get_crew_requirements(detailed_desc, roleJobTitle):\n",
        "    prompt_crew_requirement_getter = f\"You are an experienced film production assistant and an expert in planning and organizing film crews. Your task is to provide comprehensive list of crew members required to complete a film production project based on the details provided by the user. This includes identifying all essential crew roles, detailing their primary responsibilities, and specifying the number of individuals needed for each specific role. Also, consider any specialized roles required for the specific requirements of the project. Make sure that all roles chose must only be from these : {roleJobTitle}. Note that if project is to be done in multiple locations we might need crew at multiple location or we might travel, understand the requirement and give output accordingly. Now if two camera operator are required one at location1 and other at location2 then output them separately like one camera operator at location1 and one camera operator at locatin2.  Output must be in JSON format and should contain only following fields :[roleJobTitle, responsibilty_in_project, number_needed, location]\"\n",
        "    messages = [\n",
        "        (\"system\", prompt_crew_requirement_getter),\n",
        "        (\"user\", f\"This is the project details from user : {detailed_desc}\"),\n",
        "    ]\n",
        "    response = llm_json.invoke(messages)\n",
        "    crew_requirements = json.loads(response.content)\n",
        "    try : \n",
        "        crew_requirements = crew_requirements[\"crew\"]\n",
        "    except : \n",
        "        crew_requirements = crew_requirements\n",
        "    return crew_requirements\n",
        "\n",
        "\n",
        "def get_queries(crew_requirements):\n",
        "    prompt_query_generator = \"You are the database manager at my film production management company, a client will contact you with the crew requirement and then you need to define queries to database to get the data for that particular role. Queries should be for a SQL DB and should filter data out based on, role and location. Output should be in JSON format as list of query. You are a man of words your responses are upto the point and no unnecessary blaberring and words are mentioned, only JSON is outputted\"\n",
        "    messages = [\n",
        "        (\"system\", prompt_query_generator),\n",
        "        (\"user\", f\"Following is the requirement of the customer : {crew_requirements}\"),\n",
        "    ]\n",
        "    response = llm_json.invoke(messages)\n",
        "    queries = json.loads(response.content)\n",
        "    \n",
        "    try : \n",
        "        queries = queries[\"queries\"]\n",
        "    except : \n",
        "        queries = queries\n",
        "\n",
        "    return queries\n",
        "\n",
        "\n",
        "def get_selected_crews(filtered_crew, number_needed, hiring_role, detailed_desc):\n",
        "    prompt_crew_selection = \"You are a HR in my firm and you have to select the best possible crew. Your subordinates will provide you with the project detail, the crew that match the criteria for that particular job title, and the number of the crew we need to hire for that project. Now you need to select the best possible crew for that particular role and the reason why you preferred that particular person. Remember, year of experience should not be the only factor. Make sure preferred member can work well in the project. Output should be in JSON format which should follow this: {'UserId': , 'Preferred_because'}. Only output JSON. You don't need to put anything extra as your output will be directly fed to a function, so just output JSON.\"\n",
        "    # selected_crews = []\n",
        "    messages = [\n",
        "        (\"system\", prompt_crew_selection),\n",
        "        (\"user\", f\"Following is the list of available members for the project: {filtered_crew}, you need to hire {number_needed} members, for the role of {hiring_role} for this project: {detailed_desc}\"),\n",
        "    ]\n",
        "\n",
        "    response = llm_json.invoke(messages)\n",
        "    selected_crews = json.loads(response.content)\n",
        "    # selected_crews.append(selected_crew)\n",
        "    return selected_crews"
      ]
    },
    {
      "cell_type": "code",
      "execution_count": 30,
      "metadata": {},
      "outputs": [],
      "source": [
        "from langgraph.graph import END, StateGraph\n",
        "from typing import TypedDict, List, Annotated"
      ]
    },
    {
      "cell_type": "code",
      "execution_count": 31,
      "metadata": {},
      "outputs": [],
      "source": [
        "class State(TypedDict):\n",
        "    num_steps : int\n",
        "    project_detail_from_customer : str\n",
        "    detailed_desc : str\n",
        "    roleJobTitles : List[str]\n",
        "    crew_requirements : List[dict]\n",
        "    queries : List[str]\n",
        "    selected_crews : List[dict]"
      ]
    },
    {
      "cell_type": "code",
      "execution_count": 32,
      "metadata": {
        "id": "tdeo0ZJm6Z2A"
      },
      "outputs": [],
      "source": [
        "# @NODES\n",
        "# description of the project\n",
        "def detailed_desc_getter(State):\n",
        "    num_steps = int(State['num_steps'])\n",
        "    num_steps += 1\n",
        "\n",
        "    project_detail_from_customer = State[\"project_detail_from_customer\"]\n",
        "    print(\"\\n ########################################################################################################################## \\n\")\n",
        "    print(\"------------------DETAILED DESCRIPTION GETTER----------------\")\n",
        "    pprint(\"project_detail_from_customer:\")\n",
        "    pprint(project_detail_from_customer, width=140, indent=10)\n",
        "    print(\"num_steps:\", num_steps)\n",
        "\n",
        "    detailed_desc = get_detailed_desc(project_detail_from_customer)\n",
        "    pprint(\"detailed_desc:\")\n",
        "    pprint(detailed_desc, width=140, indent=10)\n",
        "    return {\"detailed_desc\" : detailed_desc, \"num_steps\" : num_steps}\n",
        "\n",
        "\n",
        "# all the available crew roles\n",
        "def unique_roles_getter(State):\n",
        "    num_steps = int(State['num_steps'])\n",
        "    num_steps += 1\n",
        "\n",
        "    # print(\"\\n ########################################################################################################################## \\n\")\n",
        "    # print(\"------------------UNIQUE ROLES GETTER----------------\")\n",
        "    roleJobTitles = get_unique_roles('crewdata.db')\n",
        "    print(\"roleJobTitles:\", roleJobTitles)\n",
        "    return {\"roleJobTitles\" : roleJobTitles, \"num_steps\" : num_steps}\n",
        "\n",
        "\n",
        "# break into crew requirements\n",
        "def crew_requirement_getter(State):\n",
        "    num_steps = int(State['num_steps'])\n",
        "    num_steps += 1\n",
        "    detailed_desc = State[\"detailed_desc\"]\n",
        "    roleJobTitles = State[\"roleJobTitles\"]\n",
        "\n",
        "    print(\"\\n ########################################################################################################################## \\n\")\n",
        "    print(\"------------------CREW REQUIREMENT GETTER----------------\")\n",
        "    crew_requirements = get_crew_requirements(detailed_desc, roleJobTitles)\n",
        "    pprint(\"crew_requirements:\")\n",
        "    pprint(crew_requirements, width=140, indent=10)\n",
        "    return {\"crew_requirements\" : crew_requirements, \"num_steps\" : num_steps}\n",
        "\n",
        "\n",
        "# break into queries\n",
        "def queries_getter(State):\n",
        "    num_steps = int(State['num_steps'])\n",
        "    num_steps += 1\n",
        "    crew_requirements = State[\"crew_requirements\"]\n",
        "\n",
        "    # print(\"\\n ########################################################################################################################## \\n\")\n",
        "    # print(\"------------------QUERIES GETTER----------------\")\n",
        "    queries = get_queries(crew_requirements)\n",
        "    pprint(\"queries:\")\n",
        "    pprint(queries, width=140, indent=10)\n",
        "    return {\"queries\" : queries, \"num_steps\" : num_steps}\n",
        "\n",
        "\n",
        "# check if all queries satisfied ----> planning to drop as I am structuring queries myself, for every requirement               \n",
        "# check if all queries are valid ----> planning to drop as I am structuring queries myself\n",
        "\n",
        "\n",
        "# call to DB for all qualified enteries\n",
        "def crew_selection(State):\n",
        "    num_steps = int(State['num_steps'])\n",
        "    num_steps += 1\n",
        "\n",
        "    detailed_desc = State[\"detailed_desc\"]\n",
        "    crew_requirements = State[\"crew_requirements\"]\n",
        "\n",
        "    print(\"\\n ########################################################################################################################## \\n\")\n",
        "    print(\"------------------CREW SELECTION----------------\")\n",
        "    selected_crews = []\n",
        "    for crew in crew_requirements:\n",
        "        filtered_crew = filter_crew_members(crew[\"roleJobTitle\"], 'Dubai', 'crewdata.db')\n",
        "        number_needed = crew[\"number_needed\"]\n",
        "        hiring_role = crew[\"roleJobTitle\"]\n",
        "\n",
        "        selected_crews_for_task = get_selected_crews(filtered_crew, number_needed, hiring_role, detailed_desc)\n",
        "        selected_crews.append({hiring_role:selected_crews_for_task})\n",
        "        pprint(\"selected_crews_for_task:\")\n",
        "        pprint(selected_crews_for_task, width=140, indent=10)\n",
        "    \n",
        "    return {\"selected_crews\" : selected_crews, \"num_steps\" : num_steps}\n",
        "\n",
        "    \n",
        "def state_printer(state):\n",
        "    \"\"\"print the state\"\"\"\n",
        "    # print(\"\\n ########################################################################################################################## \\n\")\n",
        "    # print(\"------------------STATE PRINTER----------------\")\n",
        "    print(\"num_steps:\", state[\"num_steps\"])\n",
        "    print(\"project_detail_from_customer:\", state[\"project_detail_from_customer\"])\n",
        "    print(\"detailed_desc:\", state[\"detailed_desc\"])\n",
        "    print(\"roleJobTitles:\", state[\"roleJobTitles\"])\n",
        "    print(\"queries:\", state[\"queries\"])\n",
        "    print(\"selected_crews:\", state[\"selected_crews\"])\n",
        "    return\n"
      ]
    },
    {
      "cell_type": "code",
      "execution_count": 33,
      "metadata": {},
      "outputs": [],
      "source": [
        "workflow = StateGraph(State)"
      ]
    },
    {
      "cell_type": "code",
      "execution_count": 34,
      "metadata": {},
      "outputs": [],
      "source": [
        "workflow.add_node(\"detailed_desc_getter\", detailed_desc_getter)\n",
        "workflow.add_node(\"unique_roles_getter\", unique_roles_getter)\n",
        "workflow.add_node(\"crew_requirement_getter\", crew_requirement_getter)\n",
        "workflow.add_node(\"queries_getter\", queries_getter)\n",
        "workflow.add_node(\"crew_selection\", crew_selection)\n",
        "workflow.add_node(\"state_printer\", state_printer)\n",
        "\n",
        "workflow.add_edge(\"detailed_desc_getter\", \"unique_roles_getter\")\n",
        "workflow.add_edge(\"unique_roles_getter\", \"crew_requirement_getter\")\n",
        "workflow.add_edge(\"crew_requirement_getter\", \"queries_getter\")\n",
        "workflow.add_edge(\"queries_getter\", \"crew_selection\")\n",
        "workflow.add_edge(\"crew_selection\", \"state_printer\")"
      ]
    },
    {
      "cell_type": "code",
      "execution_count": 35,
      "metadata": {},
      "outputs": [],
      "source": [
        "workflow.set_entry_point(\"detailed_desc_getter\")\n",
        "workflow.add_edge(\"state_printer\", END)"
      ]
    },
    {
      "cell_type": "code",
      "execution_count": 36,
      "metadata": {},
      "outputs": [],
      "source": [
        "app = workflow.compile()"
      ]
    },
    {
      "cell_type": "code",
      "execution_count": 37,
      "metadata": {},
      "outputs": [],
      "source": [
        "project_detail_from_customer = \"A short film to be shot in Delhi with only 2 actors and 1 camera man and 1 director and 1 make up artist, no extra crew needed\"\n",
        "inputs = {\"project_detail_from_customer\": project_detail_from_customer,\"num_steps\":0}\n",
        "\n",
        "# for op in app.stream(inputs):\n",
        "#     print(op)\n",
        "\n",
        "# app.stream(inputs)"
      ]
    },
    {
      "cell_type": "code",
      "execution_count": 38,
      "metadata": {},
      "outputs": [
        {
          "name": "stdout",
          "output_type": "stream",
          "text": [
            "\n",
            " ########################################################################################################################## \n",
            "\n",
            "------------------DETAILED DESCRIPTION GETTER----------------\n",
            "'project_detail_from_customer:'\n",
            "'A short film to be shot in Delhi with only 2 actors and 1 camera man and 1 director and 1 make up artist, no extra crew needed'\n",
            "num_steps: 1\n",
            "'detailed_desc:'\n",
            "('The project involves the production of a short film to be shot entirely in Delhi. The film will feature only two actors, and the '\n",
            " 'production team will consist of one cameraman, one director, and one makeup artist. No additional crew members will be required for this '\n",
            " 'project. All tasks, including filming, directing, and makeup, will be managed by this small, dedicated team. The same team will handle '\n",
            " 'all aspects of the shoot, ensuring a streamlined and cohesive production process. The entire project will take place in various '\n",
            " 'locations within Delhi, with the team traveling together to each site as needed.')\n",
            "roleJobTitles: ['Producer', 'Director', 'Technical Director', 'Camera Operator', 'Sound Engineer', 'Lighting Technician', 'Graphics Operator', 'Streaming Technician', 'Floor Manager', 'Teleprompter Operator', 'IT Support', 'Logistics Coordinator', 'Talent/Host', 'Makeup Artist and Hair Stylist', 'Venue Coordinator', 'Time Zone Manager']\n",
            "\n",
            " ########################################################################################################################## \n",
            "\n",
            "------------------CREW REQUIREMENT GETTER----------------\n",
            "'crew_requirements:'\n",
            "[         {         'location': 'Delhi',\n",
            "                    'number_needed': 1,\n",
            "                    'responsibilty_in_project': \"Oversee the entire production, direct the actors, and ensure the film's vision is \"\n",
            "                                                'realized.',\n",
            "                    'roleJobTitle': 'Director'},\n",
            "          {         'location': 'Delhi',\n",
            "                    'number_needed': 1,\n",
            "                    'responsibilty_in_project': 'Operate the camera, manage shot composition, and ensure high-quality footage.',\n",
            "                    'roleJobTitle': 'Camera Operator'},\n",
            "          {         'location': 'Delhi',\n",
            "                    'number_needed': 1,\n",
            "                    'responsibilty_in_project': 'Handle makeup and hair styling for the actors to ensure they look their best on camera.',\n",
            "                    'roleJobTitle': 'Makeup Artist and Hair Stylist'}]\n",
            "'queries:'\n",
            "[         {'query': \"SELECT * FROM crew WHERE roleJobTitle = 'Director' AND location = 'Delhi';\", 'roleJobTitle': 'Director'},\n",
            "          {'query': \"SELECT * FROM crew WHERE roleJobTitle = 'Camera Operator' AND location = 'Delhi';\", 'roleJobTitle': 'Camera Operator'},\n",
            "          {         'query': \"SELECT * FROM crew WHERE roleJobTitle = 'Makeup Artist and Hair Stylist' AND location = 'Delhi';\",\n",
            "                    'roleJobTitle': 'Makeup Artist and Hair Stylist'}]\n",
            "\n",
            " ########################################################################################################################## \n",
            "\n",
            "------------------CREW SELECTION----------------\n",
            "'selected_crews_for_task:'\n",
            "{         'Preferred_because': 'Ahmed Saeed has extensive experience in production planning and coordination, which is crucial for '\n",
            "                               'managing a small, dedicated team and ensuring a streamlined production process. His skills in visual '\n",
            "                               'storytelling will also enhance the quality of the short film.',\n",
            "          'UserId': 'ahmed.saeed@gmail.com'}\n",
            "'selected_crews_for_task:'\n",
            "{         'Preferred_because': 'Sameer Sharma has the required skills in Camera Operation and Lens Selection, which are crucial for a '\n",
            "                               'small, dedicated team. His experience and technical skills make him a versatile choice for a streamlined '\n",
            "                               'production process. Additionally, his cost is within a reasonable range for the project budget.',\n",
            "          'UserId': 'sameer.sharma@gmail.com'}\n",
            "'selected_crews_for_task:'\n",
            "{         'Preferred_because': 'Alisha Sarkar has expertise in Special Effects Makeup and Hair Extensions, which can be valuable for a '\n",
            "                               'short film production. Her skills in special effects techniques and makeup artistry will ensure '\n",
            "                               'high-quality makeup for the actors. Additionally, her experience and higher rate indicate a strong '\n",
            "                               'professional background, making her a reliable choice for this small, dedicated team.',\n",
            "          'UserId': 'alisha.sarkar@example.com'}\n",
            "num_steps: 5\n",
            "project_detail_from_customer: A short film to be shot in Delhi with only 2 actors and 1 camera man and 1 director and 1 make up artist, no extra crew needed\n",
            "detailed_desc: The project involves the production of a short film to be shot entirely in Delhi. The film will feature only two actors, and the production team will consist of one cameraman, one director, and one makeup artist. No additional crew members will be required for this project. All tasks, including filming, directing, and makeup, will be managed by this small, dedicated team. The same team will handle all aspects of the shoot, ensuring a streamlined and cohesive production process. The entire project will take place in various locations within Delhi, with the team traveling together to each site as needed.\n",
            "roleJobTitles: ['Producer', 'Director', 'Technical Director', 'Camera Operator', 'Sound Engineer', 'Lighting Technician', 'Graphics Operator', 'Streaming Technician', 'Floor Manager', 'Teleprompter Operator', 'IT Support', 'Logistics Coordinator', 'Talent/Host', 'Makeup Artist and Hair Stylist', 'Venue Coordinator', 'Time Zone Manager']\n",
            "queries: [{'roleJobTitle': 'Director', 'query': \"SELECT * FROM crew WHERE roleJobTitle = 'Director' AND location = 'Delhi';\"}, {'roleJobTitle': 'Camera Operator', 'query': \"SELECT * FROM crew WHERE roleJobTitle = 'Camera Operator' AND location = 'Delhi';\"}, {'roleJobTitle': 'Makeup Artist and Hair Stylist', 'query': \"SELECT * FROM crew WHERE roleJobTitle = 'Makeup Artist and Hair Stylist' AND location = 'Delhi';\"}]\n",
            "selected_crews: [{'Director': {'UserId': 'ahmed.saeed@gmail.com', 'Preferred_because': 'Ahmed Saeed has extensive experience in production planning and coordination, which is crucial for managing a small, dedicated team and ensuring a streamlined production process. His skills in visual storytelling will also enhance the quality of the short film.'}}, {'Camera Operator': {'UserId': 'sameer.sharma@gmail.com', 'Preferred_because': 'Sameer Sharma has the required skills in Camera Operation and Lens Selection, which are crucial for a small, dedicated team. His experience and technical skills make him a versatile choice for a streamlined production process. Additionally, his cost is within a reasonable range for the project budget.'}}, {'Makeup Artist and Hair Stylist': {'UserId': 'alisha.sarkar@example.com', 'Preferred_because': 'Alisha Sarkar has expertise in Special Effects Makeup and Hair Extensions, which can be valuable for a short film production. Her skills in special effects techniques and makeup artistry will ensure high-quality makeup for the actors. Additionally, her experience and higher rate indicate a strong professional background, making her a reliable choice for this small, dedicated team.'}}]\n"
          ]
        }
      ],
      "source": [
        "var = app.invoke(inputs)"
      ]
    },
    {
      "cell_type": "code",
      "execution_count": 39,
      "metadata": {},
      "outputs": [
        {
          "data": {
            "text/plain": [
              "[{'Director': {'UserId': 'ahmed.saeed@gmail.com',\n",
              "   'Preferred_because': 'Ahmed Saeed has extensive experience in production planning and coordination, which is crucial for managing a small, dedicated team and ensuring a streamlined production process. His skills in visual storytelling will also enhance the quality of the short film.'}},\n",
              " {'Camera Operator': {'UserId': 'sameer.sharma@gmail.com',\n",
              "   'Preferred_because': 'Sameer Sharma has the required skills in Camera Operation and Lens Selection, which are crucial for a small, dedicated team. His experience and technical skills make him a versatile choice for a streamlined production process. Additionally, his cost is within a reasonable range for the project budget.'}},\n",
              " {'Makeup Artist and Hair Stylist': {'UserId': 'alisha.sarkar@example.com',\n",
              "   'Preferred_because': 'Alisha Sarkar has expertise in Special Effects Makeup and Hair Extensions, which can be valuable for a short film production. Her skills in special effects techniques and makeup artistry will ensure high-quality makeup for the actors. Additionally, her experience and higher rate indicate a strong professional background, making her a reliable choice for this small, dedicated team.'}}]"
            ]
          },
          "execution_count": 39,
          "metadata": {},
          "output_type": "execute_result"
        }
      ],
      "source": [
        "var[\"selected_crews\"]"
      ]
    },
    {
      "cell_type": "code",
      "execution_count": null,
      "metadata": {},
      "outputs": [],
      "source": []
    }
  ],
  "metadata": {
    "colab": {
      "provenance": []
    },
    "kernelspec": {
      "display_name": "Python 3",
      "name": "python3"
    },
    "language_info": {
      "codemirror_mode": {
        "name": "ipython",
        "version": 3
      },
      "file_extension": ".py",
      "mimetype": "text/x-python",
      "name": "python",
      "nbconvert_exporter": "python",
      "pygments_lexer": "ipython3",
      "version": "3.12.3"
    }
  },
  "nbformat": 4,
  "nbformat_minor": 0
}
