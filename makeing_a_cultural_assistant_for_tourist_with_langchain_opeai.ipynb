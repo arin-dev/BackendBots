{
  "nbformat": 4,
  "nbformat_minor": 0,
  "metadata": {
    "colab": {
      "provenance": []
    },
    "kernelspec": {
      "name": "python3",
      "display_name": "Python 3"
    },
    "language_info": {
      "name": "python"
    }
  },
  "cells": [
    {
      "cell_type": "code",
      "source": [
        "!pip install langchain openai"
      ],
      "metadata": {
        "colab": {
          "base_uri": "https://localhost:8080/"
        },
        "id": "UtEeK2SO9a9d",
        "outputId": "fb4b4d35-0861-4f62-ef60-f0f1eaaaa360"
      },
      "execution_count": null,
      "outputs": [
        {
          "output_type": "stream",
          "name": "stdout",
          "text": [
            "Collecting langchain\n",
            "  Downloading langchain-0.2.1-py3-none-any.whl (973 kB)\n",
            "\u001b[2K     \u001b[90m━━━━━━━━━━━━━━━━━━━━━━━━━━━━━━━━━━━━━━━━\u001b[0m \u001b[32m973.5/973.5 kB\u001b[0m \u001b[31m5.3 MB/s\u001b[0m eta \u001b[36m0:00:00\u001b[0m\n",
            "\u001b[?25hCollecting openai\n",
            "  Downloading openai-1.30.5-py3-none-any.whl (320 kB)\n",
            "\u001b[2K     \u001b[90m━━━━━━━━━━━━━━━━━━━━━━━━━━━━━━━━━━━━━━━━\u001b[0m \u001b[32m320.7/320.7 kB\u001b[0m \u001b[31m9.5 MB/s\u001b[0m eta \u001b[36m0:00:00\u001b[0m\n",
            "\u001b[?25hRequirement already satisfied: PyYAML>=5.3 in /usr/local/lib/python3.10/dist-packages (from langchain) (6.0.1)\n",
            "Requirement already satisfied: SQLAlchemy<3,>=1.4 in /usr/local/lib/python3.10/dist-packages (from langchain) (2.0.30)\n",
            "Requirement already satisfied: aiohttp<4.0.0,>=3.8.3 in /usr/local/lib/python3.10/dist-packages (from langchain) (3.9.5)\n",
            "Requirement already satisfied: async-timeout<5.0.0,>=4.0.0 in /usr/local/lib/python3.10/dist-packages (from langchain) (4.0.3)\n",
            "Collecting langchain-core<0.3.0,>=0.2.0 (from langchain)\n",
            "  Downloading langchain_core-0.2.3-py3-none-any.whl (310 kB)\n",
            "\u001b[2K     \u001b[90m━━━━━━━━━━━━━━━━━━━━━━━━━━━━━━━━━━━━━━━━\u001b[0m \u001b[32m310.2/310.2 kB\u001b[0m \u001b[31m10.3 MB/s\u001b[0m eta \u001b[36m0:00:00\u001b[0m\n",
            "\u001b[?25hCollecting langchain-text-splitters<0.3.0,>=0.2.0 (from langchain)\n",
            "  Downloading langchain_text_splitters-0.2.0-py3-none-any.whl (23 kB)\n",
            "Collecting langsmith<0.2.0,>=0.1.17 (from langchain)\n",
            "  Downloading langsmith-0.1.65-py3-none-any.whl (124 kB)\n",
            "\u001b[2K     \u001b[90m━━━━━━━━━━━━━━━━━━━━━━━━━━━━━━━━━━━━━━━━\u001b[0m \u001b[32m124.3/124.3 kB\u001b[0m \u001b[31m7.5 MB/s\u001b[0m eta \u001b[36m0:00:00\u001b[0m\n",
            "\u001b[?25hRequirement already satisfied: numpy<2,>=1 in /usr/local/lib/python3.10/dist-packages (from langchain) (1.25.2)\n",
            "Requirement already satisfied: pydantic<3,>=1 in /usr/local/lib/python3.10/dist-packages (from langchain) (2.7.1)\n",
            "Requirement already satisfied: requests<3,>=2 in /usr/local/lib/python3.10/dist-packages (from langchain) (2.31.0)\n",
            "Requirement already satisfied: tenacity<9.0.0,>=8.1.0 in /usr/local/lib/python3.10/dist-packages (from langchain) (8.3.0)\n",
            "Requirement already satisfied: anyio<5,>=3.5.0 in /usr/local/lib/python3.10/dist-packages (from openai) (3.7.1)\n",
            "Requirement already satisfied: distro<2,>=1.7.0 in /usr/lib/python3/dist-packages (from openai) (1.7.0)\n",
            "Collecting httpx<1,>=0.23.0 (from openai)\n",
            "  Downloading httpx-0.27.0-py3-none-any.whl (75 kB)\n",
            "\u001b[2K     \u001b[90m━━━━━━━━━━━━━━━━━━━━━━━━━━━━━━━━━━━━━━━━\u001b[0m \u001b[32m75.6/75.6 kB\u001b[0m \u001b[31m6.1 MB/s\u001b[0m eta \u001b[36m0:00:00\u001b[0m\n",
            "\u001b[?25hRequirement already satisfied: sniffio in /usr/local/lib/python3.10/dist-packages (from openai) (1.3.1)\n",
            "Requirement already satisfied: tqdm>4 in /usr/local/lib/python3.10/dist-packages (from openai) (4.66.4)\n",
            "Requirement already satisfied: typing-extensions<5,>=4.7 in /usr/local/lib/python3.10/dist-packages (from openai) (4.11.0)\n",
            "Requirement already satisfied: aiosignal>=1.1.2 in /usr/local/lib/python3.10/dist-packages (from aiohttp<4.0.0,>=3.8.3->langchain) (1.3.1)\n",
            "Requirement already satisfied: attrs>=17.3.0 in /usr/local/lib/python3.10/dist-packages (from aiohttp<4.0.0,>=3.8.3->langchain) (23.2.0)\n",
            "Requirement already satisfied: frozenlist>=1.1.1 in /usr/local/lib/python3.10/dist-packages (from aiohttp<4.0.0,>=3.8.3->langchain) (1.4.1)\n",
            "Requirement already satisfied: multidict<7.0,>=4.5 in /usr/local/lib/python3.10/dist-packages (from aiohttp<4.0.0,>=3.8.3->langchain) (6.0.5)\n",
            "Requirement already satisfied: yarl<2.0,>=1.0 in /usr/local/lib/python3.10/dist-packages (from aiohttp<4.0.0,>=3.8.3->langchain) (1.9.4)\n",
            "Requirement already satisfied: idna>=2.8 in /usr/local/lib/python3.10/dist-packages (from anyio<5,>=3.5.0->openai) (3.7)\n",
            "Requirement already satisfied: exceptiongroup in /usr/local/lib/python3.10/dist-packages (from anyio<5,>=3.5.0->openai) (1.2.1)\n",
            "Requirement already satisfied: certifi in /usr/local/lib/python3.10/dist-packages (from httpx<1,>=0.23.0->openai) (2024.2.2)\n",
            "Collecting httpcore==1.* (from httpx<1,>=0.23.0->openai)\n",
            "  Downloading httpcore-1.0.5-py3-none-any.whl (77 kB)\n",
            "\u001b[2K     \u001b[90m━━━━━━━━━━━━━━━━━━━━━━━━━━━━━━━━━━━━━━━━\u001b[0m \u001b[32m77.9/77.9 kB\u001b[0m \u001b[31m7.3 MB/s\u001b[0m eta \u001b[36m0:00:00\u001b[0m\n",
            "\u001b[?25hCollecting h11<0.15,>=0.13 (from httpcore==1.*->httpx<1,>=0.23.0->openai)\n",
            "  Downloading h11-0.14.0-py3-none-any.whl (58 kB)\n",
            "\u001b[2K     \u001b[90m━━━━━━━━━━━━━━━━━━━━━━━━━━━━━━━━━━━━━━━━\u001b[0m \u001b[32m58.3/58.3 kB\u001b[0m \u001b[31m6.7 MB/s\u001b[0m eta \u001b[36m0:00:00\u001b[0m\n",
            "\u001b[?25hCollecting jsonpatch<2.0,>=1.33 (from langchain-core<0.3.0,>=0.2.0->langchain)\n",
            "  Downloading jsonpatch-1.33-py2.py3-none-any.whl (12 kB)\n",
            "Collecting packaging<24.0,>=23.2 (from langchain-core<0.3.0,>=0.2.0->langchain)\n",
            "  Downloading packaging-23.2-py3-none-any.whl (53 kB)\n",
            "\u001b[2K     \u001b[90m━━━━━━━━━━━━━━━━━━━━━━━━━━━━━━━━━━━━━━━━\u001b[0m \u001b[32m53.0/53.0 kB\u001b[0m \u001b[31m703.3 kB/s\u001b[0m eta \u001b[36m0:00:00\u001b[0m\n",
            "\u001b[?25hCollecting orjson<4.0.0,>=3.9.14 (from langsmith<0.2.0,>=0.1.17->langchain)\n",
            "  Downloading orjson-3.10.3-cp310-cp310-manylinux_2_17_x86_64.manylinux2014_x86_64.whl (142 kB)\n",
            "\u001b[2K     \u001b[90m━━━━━━━━━━━━━━━━━━━━━━━━━━━━━━━━━━━━━━━━\u001b[0m \u001b[32m142.5/142.5 kB\u001b[0m \u001b[31m3.6 MB/s\u001b[0m eta \u001b[36m0:00:00\u001b[0m\n",
            "\u001b[?25hRequirement already satisfied: annotated-types>=0.4.0 in /usr/local/lib/python3.10/dist-packages (from pydantic<3,>=1->langchain) (0.7.0)\n",
            "Requirement already satisfied: pydantic-core==2.18.2 in /usr/local/lib/python3.10/dist-packages (from pydantic<3,>=1->langchain) (2.18.2)\n",
            "Requirement already satisfied: charset-normalizer<4,>=2 in /usr/local/lib/python3.10/dist-packages (from requests<3,>=2->langchain) (3.3.2)\n",
            "Requirement already satisfied: urllib3<3,>=1.21.1 in /usr/local/lib/python3.10/dist-packages (from requests<3,>=2->langchain) (2.0.7)\n",
            "Requirement already satisfied: greenlet!=0.4.17 in /usr/local/lib/python3.10/dist-packages (from SQLAlchemy<3,>=1.4->langchain) (3.0.3)\n",
            "Collecting jsonpointer>=1.9 (from jsonpatch<2.0,>=1.33->langchain-core<0.3.0,>=0.2.0->langchain)\n",
            "  Downloading jsonpointer-2.4-py2.py3-none-any.whl (7.8 kB)\n",
            "Installing collected packages: packaging, orjson, jsonpointer, h11, jsonpatch, httpcore, langsmith, httpx, openai, langchain-core, langchain-text-splitters, langchain\n",
            "  Attempting uninstall: packaging\n",
            "    Found existing installation: packaging 24.0\n",
            "    Uninstalling packaging-24.0:\n",
            "      Successfully uninstalled packaging-24.0\n",
            "Successfully installed h11-0.14.0 httpcore-1.0.5 httpx-0.27.0 jsonpatch-1.33 jsonpointer-2.4 langchain-0.2.1 langchain-core-0.2.3 langchain-text-splitters-0.2.0 langsmith-0.1.65 openai-1.30.5 orjson-3.10.3 packaging-23.2\n"
          ]
        }
      ]
    },
    {
      "cell_type": "code",
      "source": [
        "!pip install langchain_openai"
      ],
      "metadata": {
        "colab": {
          "base_uri": "https://localhost:8080/"
        },
        "id": "tn_trHVGznjG",
        "outputId": "b7f40046-215c-46ed-fa99-d4e558dfcb23"
      },
      "execution_count": null,
      "outputs": [
        {
          "output_type": "stream",
          "name": "stdout",
          "text": [
            "Collecting langchain_openai\n",
            "  Downloading langchain_openai-0.1.8-py3-none-any.whl (38 kB)\n",
            "Requirement already satisfied: langchain-core<0.3,>=0.2.2 in /usr/local/lib/python3.10/dist-packages (from langchain_openai) (0.2.3)\n",
            "Requirement already satisfied: openai<2.0.0,>=1.26.0 in /usr/local/lib/python3.10/dist-packages (from langchain_openai) (1.30.5)\n",
            "Collecting tiktoken<1,>=0.7 (from langchain_openai)\n",
            "  Downloading tiktoken-0.7.0-cp310-cp310-manylinux_2_17_x86_64.manylinux2014_x86_64.whl (1.1 MB)\n",
            "\u001b[2K     \u001b[90m━━━━━━━━━━━━━━━━━━━━━━━━━━━━━━━━━━━━━━━━\u001b[0m \u001b[32m1.1/1.1 MB\u001b[0m \u001b[31m6.8 MB/s\u001b[0m eta \u001b[36m0:00:00\u001b[0m\n",
            "\u001b[?25hRequirement already satisfied: PyYAML>=5.3 in /usr/local/lib/python3.10/dist-packages (from langchain-core<0.3,>=0.2.2->langchain_openai) (6.0.1)\n",
            "Requirement already satisfied: jsonpatch<2.0,>=1.33 in /usr/local/lib/python3.10/dist-packages (from langchain-core<0.3,>=0.2.2->langchain_openai) (1.33)\n",
            "Requirement already satisfied: langsmith<0.2.0,>=0.1.65 in /usr/local/lib/python3.10/dist-packages (from langchain-core<0.3,>=0.2.2->langchain_openai) (0.1.65)\n",
            "Requirement already satisfied: packaging<24.0,>=23.2 in /usr/local/lib/python3.10/dist-packages (from langchain-core<0.3,>=0.2.2->langchain_openai) (23.2)\n",
            "Requirement already satisfied: pydantic<3,>=1 in /usr/local/lib/python3.10/dist-packages (from langchain-core<0.3,>=0.2.2->langchain_openai) (2.7.1)\n",
            "Requirement already satisfied: tenacity<9.0.0,>=8.1.0 in /usr/local/lib/python3.10/dist-packages (from langchain-core<0.3,>=0.2.2->langchain_openai) (8.3.0)\n",
            "Requirement already satisfied: anyio<5,>=3.5.0 in /usr/local/lib/python3.10/dist-packages (from openai<2.0.0,>=1.26.0->langchain_openai) (3.7.1)\n",
            "Requirement already satisfied: distro<2,>=1.7.0 in /usr/lib/python3/dist-packages (from openai<2.0.0,>=1.26.0->langchain_openai) (1.7.0)\n",
            "Requirement already satisfied: httpx<1,>=0.23.0 in /usr/local/lib/python3.10/dist-packages (from openai<2.0.0,>=1.26.0->langchain_openai) (0.27.0)\n",
            "Requirement already satisfied: sniffio in /usr/local/lib/python3.10/dist-packages (from openai<2.0.0,>=1.26.0->langchain_openai) (1.3.1)\n",
            "Requirement already satisfied: tqdm>4 in /usr/local/lib/python3.10/dist-packages (from openai<2.0.0,>=1.26.0->langchain_openai) (4.66.4)\n",
            "Requirement already satisfied: typing-extensions<5,>=4.7 in /usr/local/lib/python3.10/dist-packages (from openai<2.0.0,>=1.26.0->langchain_openai) (4.11.0)\n",
            "Requirement already satisfied: regex>=2022.1.18 in /usr/local/lib/python3.10/dist-packages (from tiktoken<1,>=0.7->langchain_openai) (2024.5.15)\n",
            "Requirement already satisfied: requests>=2.26.0 in /usr/local/lib/python3.10/dist-packages (from tiktoken<1,>=0.7->langchain_openai) (2.31.0)\n",
            "Requirement already satisfied: idna>=2.8 in /usr/local/lib/python3.10/dist-packages (from anyio<5,>=3.5.0->openai<2.0.0,>=1.26.0->langchain_openai) (3.7)\n",
            "Requirement already satisfied: exceptiongroup in /usr/local/lib/python3.10/dist-packages (from anyio<5,>=3.5.0->openai<2.0.0,>=1.26.0->langchain_openai) (1.2.1)\n",
            "Requirement already satisfied: certifi in /usr/local/lib/python3.10/dist-packages (from httpx<1,>=0.23.0->openai<2.0.0,>=1.26.0->langchain_openai) (2024.2.2)\n",
            "Requirement already satisfied: httpcore==1.* in /usr/local/lib/python3.10/dist-packages (from httpx<1,>=0.23.0->openai<2.0.0,>=1.26.0->langchain_openai) (1.0.5)\n",
            "Requirement already satisfied: h11<0.15,>=0.13 in /usr/local/lib/python3.10/dist-packages (from httpcore==1.*->httpx<1,>=0.23.0->openai<2.0.0,>=1.26.0->langchain_openai) (0.14.0)\n",
            "Requirement already satisfied: jsonpointer>=1.9 in /usr/local/lib/python3.10/dist-packages (from jsonpatch<2.0,>=1.33->langchain-core<0.3,>=0.2.2->langchain_openai) (2.4)\n",
            "Requirement already satisfied: orjson<4.0.0,>=3.9.14 in /usr/local/lib/python3.10/dist-packages (from langsmith<0.2.0,>=0.1.65->langchain-core<0.3,>=0.2.2->langchain_openai) (3.10.3)\n",
            "Requirement already satisfied: annotated-types>=0.4.0 in /usr/local/lib/python3.10/dist-packages (from pydantic<3,>=1->langchain-core<0.3,>=0.2.2->langchain_openai) (0.7.0)\n",
            "Requirement already satisfied: pydantic-core==2.18.2 in /usr/local/lib/python3.10/dist-packages (from pydantic<3,>=1->langchain-core<0.3,>=0.2.2->langchain_openai) (2.18.2)\n",
            "Requirement already satisfied: charset-normalizer<4,>=2 in /usr/local/lib/python3.10/dist-packages (from requests>=2.26.0->tiktoken<1,>=0.7->langchain_openai) (3.3.2)\n",
            "Requirement already satisfied: urllib3<3,>=1.21.1 in /usr/local/lib/python3.10/dist-packages (from requests>=2.26.0->tiktoken<1,>=0.7->langchain_openai) (2.0.7)\n",
            "Installing collected packages: tiktoken, langchain_openai\n",
            "Successfully installed langchain_openai-0.1.8 tiktoken-0.7.0\n"
          ]
        }
      ]
    },
    {
      "cell_type": "code",
      "source": [
        "from langchain_core.messages import HumanMessage, SystemMessage\n",
        "from langchain_core.prompts import ChatPromptTemplate\n",
        "from langchain_openai import ChatOpenAI"
      ],
      "metadata": {
        "id": "ePpKPKrM9tcM"
      },
      "execution_count": null,
      "outputs": []
    },
    {
      "cell_type": "code",
      "source": [
        "import os\n",
        "os.environ[\"OPEANAI_API_KEY\"]=\"sk-proj-7GDRjoFaMK3NqnWTP8IsT3BlbkFJjDaGclWkVRdmf2MT9Lxp\""
      ],
      "metadata": {
        "id": "qW6_Ewks-IWp"
      },
      "execution_count": null,
      "outputs": []
    },
    {
      "cell_type": "code",
      "source": [
        "llm = ChatOpenAI(model=\"gpt-4o\", temperature=0, api_key=\"sk-proj-7GDRjoFaMK3NqnWTP8IsT3BlbkFJjDaGclWkVRdmf2MT9Lxp\")"
      ],
      "metadata": {
        "id": "fVL0q_B7-0Y-"
      },
      "execution_count": null,
      "outputs": []
    },
    {
      "cell_type": "code",
      "source": [
        "country_name=input(\"Enter the Country name:\")\n",
        "print(country_name)"
      ],
      "metadata": {
        "id": "ZFZgW6n3GKmx",
        "colab": {
          "base_uri": "https://localhost:8080/"
        },
        "outputId": "575c0fa3-a28c-4396-ede1-792143130f5a"
      },
      "execution_count": null,
      "outputs": [
        {
          "output_type": "stream",
          "name": "stdout",
          "text": [
            "Enter the Country name:Dubai\n",
            "Dubai\n"
          ]
        }
      ]
    },
    {
      "cell_type": "code",
      "source": [
        "messages = [\n",
        "    (\"system\", f\"You are the cultural assistant that briefs the tourist about the culture and rules of {country_name}.\"),\n",
        "    (\"human\", f\"Show me the rules and culture of {country_name}\"),\n",
        "]\n",
        "output=llm.invoke(messages)"
      ],
      "metadata": {
        "id": "lfQNcSc9_L54"
      },
      "execution_count": null,
      "outputs": []
    },
    {
      "cell_type": "code",
      "source": [
        "print(output.content)"
      ],
      "metadata": {
        "id": "X8wlDBDW0Kds",
        "colab": {
          "base_uri": "https://localhost:8080/"
        },
        "outputId": "367d20f6-6fd0-4dd6-b1cb-fc8774b8c72b"
      },
      "execution_count": null,
      "outputs": [
        {
          "output_type": "stream",
          "name": "stdout",
          "text": [
            "Welcome to Dubai! It's great that you want to learn about the local culture and rules. Dubai is a vibrant city that blends modernity with rich traditions. Here are some key points to help you navigate and enjoy your stay:\n",
            "\n",
            "### Cultural Etiquette\n",
            "\n",
            "1. **Dress Code**: \n",
            "   - Dress modestly, especially in public places. For women, this means covering shoulders and knees. Men should avoid wearing sleeveless shirts.\n",
            "   - Swimwear is acceptable at the beach or pool, but not in public areas away from these places.\n",
            "\n",
            "2. **Public Behavior**:\n",
            "   - Public displays of affection are frowned upon. Holding hands is generally acceptable, but kissing and hugging in public can lead to legal issues.\n",
            "   - Avoid loud and boisterous behavior in public places.\n",
            "\n",
            "3. **Respect for Religion**:\n",
            "   - Dubai is a Muslim city, and it's important to respect Islamic traditions. During the holy month of Ramadan, refrain from eating, drinking, or smoking in public during daylight hours.\n",
            "   - Be mindful of prayer times and the call to prayer, which happens five times a day.\n",
            "\n",
            "4. **Photography**:\n",
            "   - Always ask for permission before taking photos of people, especially women. Avoid photographing government buildings, military installations, and airports.\n",
            "\n",
            "### Legal Rules\n",
            "\n",
            "1. **Alcohol Consumption**:\n",
            "   - Alcohol is available in licensed venues like hotels, bars, and clubs. Drinking in public places is illegal.\n",
            "   - You must be at least 21 years old to drink alcohol, and driving under the influence is strictly prohibited.\n",
            "\n",
            "2. **Drugs**:\n",
            "   - The possession, use, and trafficking of drugs are illegal and carry severe penalties, including imprisonment and deportation.\n",
            "\n",
            "3. **Behavior and Decency**:\n",
            "   - Offensive language, gestures, and indecent behavior can result in fines or imprisonment.\n",
            "   - Avoid arguments and confrontations in public.\n",
            "\n",
            "4. **Driving**:\n",
            "   - Always wear a seatbelt, and adhere to speed limits and traffic rules. Using a mobile phone while driving is illegal unless you have a hands-free system.\n",
            "\n",
            "### Social Norms\n",
            "\n",
            "1. **Hospitality**:\n",
            "   - Emiratis are known for their hospitality. If you are invited to a local's home, it's polite to bring a small gift, such as sweets or dates.\n",
            "   - Remove your shoes before entering someone's home.\n",
            "\n",
            "2. **Business Etiquette**:\n",
            "   - Business meetings often start with small talk. Building a personal relationship is important.\n",
            "   - Handshakes are common, but wait for a woman to extend her hand first if you are a man.\n",
            "\n",
            "3. **Language**:\n",
            "   - Arabic is the official language, but English is widely spoken and understood.\n",
            "\n",
            "### Practical Tips\n",
            "\n",
            "1. **Currency**:\n",
            "   - The currency is the UAE Dirham (AED). Credit cards are widely accepted, but it's good to have some cash for small purchases.\n",
            "\n",
            "2. **Tipping**:\n",
            "   - Tipping is not mandatory but appreciated. A 10-15% tip in restaurants is customary if service charges are not included.\n",
            "\n",
            "3. **Climate**:\n",
            "   - Dubai has a hot desert climate. Stay hydrated and use sunscreen. Lightweight, breathable clothing is recommended.\n",
            "\n",
            "By respecting these cultural norms and rules, you'll have a more enjoyable and respectful experience in Dubai. Enjoy your visit!\n"
          ]
        }
      ]
    },
    {
      "cell_type": "code",
      "source": [
        "prompt = ChatPromptTemplate.from_messages(\n",
        "    {\n",
        "        (\n",
        "            \"system\",\n",
        "            f\"You are a helpful assistant that Shows me the rules and basic culture of {country_name}.\",\n",
        "        ),\n",
        "        (\"human\", f\"{country_name}\"),\n",
        "    }\n",
        ")\n",
        "\n",
        "chain = prompt | llm\n",
        "chain.invoke(\n",
        "    {\n",
        "        \"input\": {\"country_name\"},\n",
        "    }\n",
        ")"
      ],
      "metadata": {
        "id": "WV6ZrFBAP2qh",
        "colab": {
          "base_uri": "https://localhost:8080/"
        },
        "outputId": "c4d914a1-8df6-41e9-dcbd-5a0f6bf9c2a3"
      },
      "execution_count": null,
      "outputs": [
        {
          "output_type": "execute_result",
          "data": {
            "text/plain": [
              "AIMessage(content=\"Dubai is a vibrant and cosmopolitan city in the United Arab Emirates (UAE) known for its modern architecture, luxury shopping, and lively nightlife. However, it also has a rich cultural heritage and follows certain rules and customs that visitors should be aware of. Here are some key points regarding the rules and basic culture of Dubai:\\n\\n### Cultural Etiquette\\n\\n1. **Dress Code**:\\n   - **Modesty**: While Dubai is relatively liberal compared to other parts of the Middle East, modest dress is still appreciated, especially in public places. Women should avoid wearing revealing clothing, and men should avoid going shirtless outside of beach areas.\\n   - **Swimwear**: Swimwear is acceptable at the beach or pool, but not in public areas away from these locations.\\n\\n2. **Public Behavior**:\\n   - **Public Displays of Affection**: Holding hands is generally acceptable, but kissing and hugging in public are frowned upon and can lead to legal issues.\\n   - **Respect for Religion**: Dubai is a Muslim city, and respect for Islamic traditions is important. During the holy month of Ramadan, eating, drinking, and smoking in public during daylight hours are prohibited.\\n\\n3. **Social Interactions**:\\n   - **Greetings**: A handshake is a common form of greeting, but always use your right hand. Be mindful that some Muslim women may prefer not to shake hands with men.\\n   - **Hospitality**: Emiratis are known for their hospitality. If you are invited to someone's home, it is polite to bring a small gift, such as sweets or dates.\\n\\n### Legal Considerations\\n\\n1. **Alcohol**:\\n   - **Consumption**: Alcohol is available in licensed venues such as hotels, bars, and clubs. Drinking in public places is illegal.\\n   - **Drunk Driving**: There is zero tolerance for drunk driving. The penalties are severe, including fines, imprisonment, and deportation.\\n\\n2. **Drugs**:\\n   - **Strict Laws**: The UAE has very strict anti-drug laws. Possession of even small amounts of illegal drugs can result in severe penalties, including long prison sentences.\\n\\n3. **Behavior**:\\n   - **Offensive Language and Gestures**: Swearing, making rude gestures, and public indecency are punishable offenses.\\n   - **Photography**: Be cautious when taking photos. Avoid photographing people without their permission, especially women and government or military buildings.\\n\\n### Practical Tips\\n\\n1. **Currency**: The currency is the UAE Dirham (AED). Credit cards are widely accepted, but it's good to have some cash for smaller transactions.\\n2. **Language**: Arabic is the official language, but English is widely spoken and understood.\\n3. **Transportation**: Dubai has an efficient public transportation system, including the metro, buses, and taxis. Ride-sharing apps like Uber and Careem are also available.\\n4. **Climate**: Dubai has a hot desert climate. Summers can be extremely hot, so it's important to stay hydrated and use sun protection.\\n\\n### Cultural Highlights\\n\\n1. **Cuisine**: Dubai offers a diverse culinary scene, from traditional Emirati dishes to international cuisine. Don't miss trying local specialties like shawarma, falafel, and camel meat.\\n2. **Shopping**: Dubai is famous for its shopping malls, such as The Dubai Mall and Mall of the Emirates, as well as traditional souks like the Gold Souk and Spice Souk.\\n3. **Attractions**: Key attractions include the Burj Khalifa, Palm Jumeirah, Dubai Marina, and the Dubai Fountain. Cultural sites like the Dubai Museum and Al Fahidi Historic District offer insights into the city's heritage.\\n\\nBy respecting local customs and laws, you can enjoy a safe and enriching experience in Dubai.\", response_metadata={'token_usage': {'completion_tokens': 767, 'prompt_tokens': 28, 'total_tokens': 795}, 'model_name': 'gpt-4o', 'system_fingerprint': 'fp_43dfabdef1', 'finish_reason': 'stop', 'logprobs': None}, id='run-9153864c-698d-4d43-b5fa-016f45a84cb5-0', usage_metadata={'input_tokens': 28, 'output_tokens': 767, 'total_tokens': 795})"
            ]
          },
          "metadata": {},
          "execution_count": 10
        }
      ]
    },
    {
      "cell_type": "code",
      "source": [
        "print(prompt)"
      ],
      "metadata": {
        "id": "pJ4mWrd80Utv",
        "colab": {
          "base_uri": "https://localhost:8080/"
        },
        "outputId": "33ae25a2-0ac2-4ebb-b6f2-922f840b0f66"
      },
      "execution_count": null,
      "outputs": [
        {
          "output_type": "stream",
          "name": "stdout",
          "text": [
            "input_variables=[] messages=[SystemMessagePromptTemplate(prompt=PromptTemplate(input_variables=[], template='You are a helpful assistant that Shows me the rules and basic culture of Dubai.')), HumanMessagePromptTemplate(prompt=PromptTemplate(input_variables=[], template='Dubai'))]\n"
          ]
        }
      ]
    },
    {
      "cell_type": "code",
      "source": [
        "from openai import OpenAI\n",
        "OPENAI_API_KEY = \"sk-proj-rNE67LUhYYMuZgJU4hhRT3BlbkFJUeqMl7Vy0mSRa4yVwlSa\"\n",
        "\n",
        "client = OpenAI(\n",
        "      api_key = os.environ[\"OPEANAI_API_KEY\"]\n",
        "      )"
      ],
      "metadata": {
        "id": "B2csFCUAUqi0"
      },
      "execution_count": null,
      "outputs": []
    },
    {
      "cell_type": "code",
      "source": [
        "prompt= f\"I am providing you with the data from {country_name}: {messages}\"\n",
        "\n",
        "response = client.chat.completions.create(\n",
        "  model=\"gpt-4o\",\n",
        "  messages=[\n",
        "  {\"role\": \"system\", \"content\": \"You are a cultural and heritage manager at my films and production firms, you need to make sure that when  our employee go to some other country or state we follow the cultural norms there as to not hurt their culture or feelings, the people who will contact you might provide their own research make use of that and your own knowledge to frame the rules appropriately \"},\n",
        "  {\"role\": \"user\", \"content\": f\"{prompt}\"},\n",
        "  ]\n",
        ")\n",
        "\n",
        "response = response.choices[0].message.content\n",
        "print(response)"
      ],
      "metadata": {
        "id": "Y4fGqFy6jsu4",
        "colab": {
          "base_uri": "https://localhost:8080/"
        },
        "outputId": "27285056-c262-48e1-8a7b-4de54094b590"
      },
      "execution_count": null,
      "outputs": [
        {
          "output_type": "stream",
          "name": "stdout",
          "text": [
            "Certainly! Below is a summary of the cultural norms and rules to follow when visiting Dubai. It's important that our employees adhere to these guidelines to show respect and avoid any issues:\n",
            "\n",
            "### Cultural Norms and Etiquette in Dubai\n",
            "\n",
            "1. **Dress Code**:\n",
            "   - **Women**: Should wear clothes that cover the shoulders and knees. In public places such as malls and markets, avoid tight-fitting and transparent garments.\n",
            "   - **Men**: Should also dress modestly. Avoid wearing shorts, especially in public places, and opt for trousers instead.\n",
            "\n",
            "2. **Public Behavior**:\n",
            "   - **Public Displays of Affection**: Holding hands is usually acceptable for married couples, but other displays of affection such as kissing or hugging are considered offensive.\n",
            "   - **Noise Levels**: Avoid loud conversations or music in public places.\n",
            "   - **Respecting Privacy**: Avoid taking photos of people without their consent, especially women and families.\n",
            "\n",
            "3. **Social Customs**:\n",
            "   - **Greetings**: A gentle handshake is customary, but some conservative Muslims might prefer not to touch the opposite gender. It’s polite to greet and say farewell.\n",
            "   - **Hospitality**: If offered food or drink, it is polite to accept at least a little.\n",
            "\n",
            "4. **Religious Awareness**:\n",
            "   - **Mosques**: Non-Muslims are usually not allowed inside mosques except for special tours. Always ask for permission.\n",
            "   - **Prayer Times**: Be aware that businesses might close during prayer times.\n",
            "   - **Holy Month of Ramadan**: Eating, drinking, or smoking in public during daylight hours is prohibited.\n",
            "\n",
            "5. **Legal Considerations**:\n",
            "   - **Alcohol**: Can only be consumed in licensed venues, such as hotels or bars. Public intoxication is illegal.\n",
            "   - **Drugs**: Zero tolerance for drug-related offenses. Even a small amount can lead to severe penalties.\n",
            "   - **Behavior**: Ensure polite behavior at all times. Swearing, aggressive behavior, and unseemly gestures can lead to fines or imprisonment.\n",
            "   - **Documentation**: Always carry an ID or a copy of your passport.\n",
            "\n",
            "6. **Business Conduct**:\n",
            "   - **Meetings**: Be punctual. Address people by their titles and surnames unless given permission to do otherwise.\n",
            "   - **Gift Giving**: Accepting and giving gifts is common, but quality over quantity. Avoid giving alcohol unless you’re certain the recipient consumes it.\n",
            "\n",
            "### Additional Tips:\n",
            "\n",
            "- **Tipping**: Though not mandatory, it is appreciated. Standard practice is to tip 10-15% at restaurants.\n",
            "- **Respect for Elders**: Show a high degree of respect towards elders.\n",
            "- **Language**: While many people speak English, learning a few basic Arabic phrases is a courteous gesture.\n",
            "\n",
            "By following these guidelines, we can ensure that our employees respect the local customs and avoid any misunderstandings or offenses. Always encourage employees to do additional research or ask you if they are uncertain about any specific customs or rules.\n",
            "\n",
            "If there are any specific scenarios you foresee or any more detailed questions, feel free to ask, and I can provide more targeted guidance.\n"
          ]
        }
      ]
    }
  ]
}